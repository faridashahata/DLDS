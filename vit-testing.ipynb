{
 "cells": [
  {
   "cell_type": "code",
   "execution_count": 4,
   "metadata": {
    "ExecuteTime": {
     "end_time": "2023-05-16T11:04:11.512614Z",
     "start_time": "2023-05-16T11:04:11.421687Z"
    }
   },
   "outputs": [
    {
     "ename": "ImportError",
     "evalue": "cannot import name 'tf_utils' from 'keras.utils' (/Users/faridashahata/miniconda3/lib/python3.10/site-packages/keras/utils/__init__.py)",
     "output_type": "error",
     "traceback": [
      "\u001B[0;31m---------------------------------------------------------------------------\u001B[0m",
      "\u001B[0;31mImportError\u001B[0m                               Traceback (most recent call last)",
      "Cell \u001B[0;32mIn[4], line 1\u001B[0m\n\u001B[0;32m----> 1\u001B[0m \u001B[38;5;28;01mfrom\u001B[39;00m \u001B[38;5;21;01mvit_keras\u001B[39;00m \u001B[38;5;28;01mimport\u001B[39;00m vit\n\u001B[1;32m      2\u001B[0m \u001B[38;5;28;01mimport\u001B[39;00m \u001B[38;5;21;01mtensorflow\u001B[39;00m \u001B[38;5;28;01mas\u001B[39;00m \u001B[38;5;21;01mtf\u001B[39;00m\n\u001B[1;32m      3\u001B[0m \u001B[38;5;28;01mfrom\u001B[39;00m \u001B[38;5;21;01mtyping\u001B[39;00m \u001B[38;5;28;01mimport\u001B[39;00m \u001B[38;5;241m*\u001B[39m\n",
      "File \u001B[0;32m~/miniconda3/lib/python3.10/site-packages/vit_keras/vit.py:6\u001B[0m\n\u001B[1;32m      3\u001B[0m \u001B[38;5;28;01mimport\u001B[39;00m \u001B[38;5;21;01mtensorflow\u001B[39;00m \u001B[38;5;28;01mas\u001B[39;00m \u001B[38;5;21;01mtf\u001B[39;00m\n\u001B[1;32m      4\u001B[0m \u001B[38;5;28;01mimport\u001B[39;00m \u001B[38;5;21;01mtyping_extensions\u001B[39;00m \u001B[38;5;28;01mas\u001B[39;00m \u001B[38;5;21;01mtx\u001B[39;00m\n\u001B[0;32m----> 6\u001B[0m \u001B[38;5;28;01mfrom\u001B[39;00m \u001B[38;5;21;01m.\u001B[39;00m \u001B[38;5;28;01mimport\u001B[39;00m layers, utils\n\u001B[1;32m      8\u001B[0m ConfigDict \u001B[38;5;241m=\u001B[39m tx\u001B[38;5;241m.\u001B[39mTypedDict(\n\u001B[1;32m      9\u001B[0m     \u001B[38;5;124m\"\u001B[39m\u001B[38;5;124mConfigDict\u001B[39m\u001B[38;5;124m\"\u001B[39m,\n\u001B[1;32m     10\u001B[0m     {\n\u001B[0;32m   (...)\u001B[0m\n\u001B[1;32m     16\u001B[0m     },\n\u001B[1;32m     17\u001B[0m )\n\u001B[1;32m     19\u001B[0m CONFIG_B: ConfigDict \u001B[38;5;241m=\u001B[39m {\n\u001B[1;32m     20\u001B[0m     \u001B[38;5;124m\"\u001B[39m\u001B[38;5;124mdropout\u001B[39m\u001B[38;5;124m\"\u001B[39m: \u001B[38;5;241m0.1\u001B[39m,\n\u001B[1;32m     21\u001B[0m     \u001B[38;5;124m\"\u001B[39m\u001B[38;5;124mmlp_dim\u001B[39m\u001B[38;5;124m\"\u001B[39m: \u001B[38;5;241m3072\u001B[39m,\n\u001B[0;32m   (...)\u001B[0m\n\u001B[1;32m     24\u001B[0m     \u001B[38;5;124m\"\u001B[39m\u001B[38;5;124mhidden_size\u001B[39m\u001B[38;5;124m\"\u001B[39m: \u001B[38;5;241m768\u001B[39m,\n\u001B[1;32m     25\u001B[0m }\n",
      "File \u001B[0;32m~/miniconda3/lib/python3.10/site-packages/vit_keras/layers.py:3\u001B[0m\n\u001B[1;32m      1\u001B[0m \u001B[38;5;66;03m# pylint: disable=arguments-differ,missing-function-docstring,missing-class-docstring,unexpected-keyword-arg,no-value-for-parameter\u001B[39;00m\n\u001B[1;32m      2\u001B[0m \u001B[38;5;28;01mimport\u001B[39;00m \u001B[38;5;21;01mtensorflow\u001B[39;00m \u001B[38;5;28;01mas\u001B[39;00m \u001B[38;5;21;01mtf\u001B[39;00m\n\u001B[0;32m----> 3\u001B[0m \u001B[38;5;28;01mimport\u001B[39;00m \u001B[38;5;21;01mtensorflow_addons\u001B[39;00m \u001B[38;5;28;01mas\u001B[39;00m \u001B[38;5;21;01mtfa\u001B[39;00m\n\u001B[1;32m      6\u001B[0m \u001B[38;5;129m@tf\u001B[39m\u001B[38;5;241m.\u001B[39mkeras\u001B[38;5;241m.\u001B[39mutils\u001B[38;5;241m.\u001B[39mregister_keras_serializable()\n\u001B[1;32m      7\u001B[0m \u001B[38;5;28;01mclass\u001B[39;00m \u001B[38;5;21;01mClassToken\u001B[39;00m(tf\u001B[38;5;241m.\u001B[39mkeras\u001B[38;5;241m.\u001B[39mlayers\u001B[38;5;241m.\u001B[39mLayer):\n\u001B[1;32m      8\u001B[0m \u001B[38;5;250m    \u001B[39m\u001B[38;5;124;03m\"\"\"Append a class token to an input layer.\"\"\"\u001B[39;00m\n",
      "File \u001B[0;32m~/miniconda3/lib/python3.10/site-packages/tensorflow_addons/__init__.py:29\u001B[0m\n\u001B[1;32m     27\u001B[0m \u001B[38;5;28;01mfrom\u001B[39;00m \u001B[38;5;21;01mtensorflow_addons\u001B[39;00m \u001B[38;5;28;01mimport\u001B[39;00m losses\n\u001B[1;32m     28\u001B[0m \u001B[38;5;28;01mfrom\u001B[39;00m \u001B[38;5;21;01mtensorflow_addons\u001B[39;00m \u001B[38;5;28;01mimport\u001B[39;00m metrics\n\u001B[0;32m---> 29\u001B[0m \u001B[38;5;28;01mfrom\u001B[39;00m \u001B[38;5;21;01mtensorflow_addons\u001B[39;00m \u001B[38;5;28;01mimport\u001B[39;00m optimizers\n\u001B[1;32m     30\u001B[0m \u001B[38;5;28;01mfrom\u001B[39;00m \u001B[38;5;21;01mtensorflow_addons\u001B[39;00m \u001B[38;5;28;01mimport\u001B[39;00m rnn\n\u001B[1;32m     31\u001B[0m \u001B[38;5;28;01mfrom\u001B[39;00m \u001B[38;5;21;01mtensorflow_addons\u001B[39;00m \u001B[38;5;28;01mimport\u001B[39;00m seq2seq\n",
      "File \u001B[0;32m~/miniconda3/lib/python3.10/site-packages/tensorflow_addons/optimizers/__init__.py:30\u001B[0m\n\u001B[1;32m     24\u001B[0m \u001B[38;5;28;01mfrom\u001B[39;00m \u001B[38;5;21;01mtensorflow_addons\u001B[39;00m\u001B[38;5;21;01m.\u001B[39;00m\u001B[38;5;21;01moptimizers\u001B[39;00m\u001B[38;5;21;01m.\u001B[39;00m\u001B[38;5;21;01mcyclical_learning_rate\u001B[39;00m \u001B[38;5;28;01mimport\u001B[39;00m (\n\u001B[1;32m     25\u001B[0m     Triangular2CyclicalLearningRate,\n\u001B[1;32m     26\u001B[0m )\n\u001B[1;32m     27\u001B[0m \u001B[38;5;28;01mfrom\u001B[39;00m \u001B[38;5;21;01mtensorflow_addons\u001B[39;00m\u001B[38;5;21;01m.\u001B[39;00m\u001B[38;5;21;01moptimizers\u001B[39;00m\u001B[38;5;21;01m.\u001B[39;00m\u001B[38;5;21;01mcyclical_learning_rate\u001B[39;00m \u001B[38;5;28;01mimport\u001B[39;00m (\n\u001B[1;32m     28\u001B[0m     ExponentialCyclicalLearningRate,\n\u001B[1;32m     29\u001B[0m )\n\u001B[0;32m---> 30\u001B[0m \u001B[38;5;28;01mfrom\u001B[39;00m \u001B[38;5;21;01mtensorflow_addons\u001B[39;00m\u001B[38;5;21;01m.\u001B[39;00m\u001B[38;5;21;01moptimizers\u001B[39;00m\u001B[38;5;21;01m.\u001B[39;00m\u001B[38;5;21;01mdiscriminative_layer_training\u001B[39;00m \u001B[38;5;28;01mimport\u001B[39;00m (\n\u001B[1;32m     31\u001B[0m     MultiOptimizer,\n\u001B[1;32m     32\u001B[0m )\n\u001B[1;32m     33\u001B[0m \u001B[38;5;28;01mfrom\u001B[39;00m \u001B[38;5;21;01mtensorflow_addons\u001B[39;00m\u001B[38;5;21;01m.\u001B[39;00m\u001B[38;5;21;01moptimizers\u001B[39;00m\u001B[38;5;21;01m.\u001B[39;00m\u001B[38;5;21;01mlamb\u001B[39;00m \u001B[38;5;28;01mimport\u001B[39;00m LAMB\n\u001B[1;32m     34\u001B[0m \u001B[38;5;28;01mfrom\u001B[39;00m \u001B[38;5;21;01mtensorflow_addons\u001B[39;00m\u001B[38;5;21;01m.\u001B[39;00m\u001B[38;5;21;01moptimizers\u001B[39;00m\u001B[38;5;21;01m.\u001B[39;00m\u001B[38;5;21;01mlazy_adam\u001B[39;00m \u001B[38;5;28;01mimport\u001B[39;00m LazyAdam\n",
      "File \u001B[0;32m~/miniconda3/lib/python3.10/site-packages/tensorflow_addons/optimizers/discriminative_layer_training.py:25\u001B[0m\n\u001B[1;32m     22\u001B[0m \u001B[38;5;28;01mfrom\u001B[39;00m \u001B[38;5;21;01mtypeguard\u001B[39;00m \u001B[38;5;28;01mimport\u001B[39;00m typechecked\n\u001B[1;32m     24\u001B[0m \u001B[38;5;28;01mfrom\u001B[39;00m \u001B[38;5;21;01mkeras\u001B[39;00m \u001B[38;5;28;01mimport\u001B[39;00m backend\n\u001B[0;32m---> 25\u001B[0m \u001B[38;5;28;01mfrom\u001B[39;00m \u001B[38;5;21;01mkeras\u001B[39;00m\u001B[38;5;21;01m.\u001B[39;00m\u001B[38;5;21;01mutils\u001B[39;00m \u001B[38;5;28;01mimport\u001B[39;00m tf_utils\n\u001B[1;32m     28\u001B[0m \u001B[38;5;129m@tf\u001B[39m\u001B[38;5;241m.\u001B[39mkeras\u001B[38;5;241m.\u001B[39mutils\u001B[38;5;241m.\u001B[39mregister_keras_serializable(package\u001B[38;5;241m=\u001B[39m\u001B[38;5;124m\"\u001B[39m\u001B[38;5;124mAddons\u001B[39m\u001B[38;5;124m\"\u001B[39m)\n\u001B[1;32m     29\u001B[0m \u001B[38;5;28;01mclass\u001B[39;00m \u001B[38;5;21;01mMultiOptimizer\u001B[39;00m(KerasLegacyOptimizer):\n\u001B[1;32m     30\u001B[0m \u001B[38;5;250m    \u001B[39m\u001B[38;5;124;03m\"\"\"Multi Optimizer Wrapper for Discriminative Layer Training.\u001B[39;00m\n\u001B[1;32m     31\u001B[0m \n\u001B[1;32m     32\u001B[0m \u001B[38;5;124;03m    Creates a wrapper around a set of instantiated optimizer layer pairs.\u001B[39;00m\n\u001B[0;32m   (...)\u001B[0m\n\u001B[1;32m     78\u001B[0m \u001B[38;5;124;03m    would with any other optimizer.\u001B[39;00m\n\u001B[1;32m     79\u001B[0m \u001B[38;5;124;03m    \"\"\"\u001B[39;00m\n",
      "\u001B[0;31mImportError\u001B[0m: cannot import name 'tf_utils' from 'keras.utils' (/Users/faridashahata/miniconda3/lib/python3.10/site-packages/keras/utils/__init__.py)"
     ]
    }
   ],
   "source": [
    "from vit_keras import vit\n",
    "import tensorflow as tf\n",
    "from typing import *\n",
    "from tqdm import tqdm\n",
    "\n",
    "\n",
    "CFG_SEED=71"
   ]
  },
  {
   "cell_type": "code",
   "execution_count": null,
   "metadata": {},
   "outputs": [],
   "source": []
  },
  {
   "cell_type": "code",
   "execution_count": 2,
   "metadata": {},
   "outputs": [
    {
     "name": "stderr",
     "output_type": "stream",
     "text": [
      "2023-05-16 11:53:47.082268: E tensorflow/compiler/xla/stream_executor/cuda/cuda_driver.cc:266] failed call to cuInit: CUDA_ERROR_NO_DEVICE: no CUDA-capable device is detected\n",
      "/home/farhad/anaconda3/lib/python3.10/site-packages/vit_keras/utils.py:81: UserWarning: Resizing position embeddings from 24, 24 to 14, 14\n",
      "  warnings.warn(\n"
     ]
    }
   ],
   "source": [
    "vit_model = vit.vit_b16(\n",
    "        image_size=224,\n",
    "        activation='softmax',\n",
    "        pretrained=True,\n",
    "        include_top=False,\n",
    "        pretrained_top=False,\n",
    "        classes=44)\n",
    "\n",
    "for layer in vit_model.layers:\n",
    "    layer.trainable = False\n",
    "\n",
    "\n",
    "    "
   ]
  },
  {
   "cell_type": "code",
   "execution_count": 3,
   "metadata": {},
   "outputs": [],
   "source": [
    "def vit_b16_model():    \n",
    "    vit_b16_sequential = tf.keras.Sequential([\n",
    "        tf.keras.layers.Input(shape=(224,224,3), dtype=tf.float32, name='input_image'),\n",
    "        vit_model,\n",
    "        tf.keras.layers.Dropout(0.2),\n",
    "        tf.keras.layers.Dense(512, activation='relu'),\n",
    "        tf.keras.layers.Dense(256, activation='relu'),\n",
    "        tf.keras.layers.Dense(44, dtype=tf.float32, activation='softmax')\n",
    "    ], name='vit_b16_sequential_model')\n",
    "    \n",
    "    return vit_b16_sequential"
   ]
  },
  {
   "cell_type": "code",
   "execution_count": 4,
   "metadata": {},
   "outputs": [
    {
     "name": "stdout",
     "output_type": "stream",
     "text": [
      "Model: \"vit_b16_sequential_model\"\n",
      "_________________________________________________________________\n",
      " Layer (type)                Output Shape              Param #   \n",
      "=================================================================\n",
      " vit-b16 (Functional)        (None, 768)               85798656  \n",
      "                                                                 \n",
      " dropout (Dropout)           (None, 768)               0         \n",
      "                                                                 \n",
      " dense (Dense)               (None, 512)               393728    \n",
      "                                                                 \n",
      " dense_1 (Dense)             (None, 256)               131328    \n",
      "                                                                 \n",
      " dense_2 (Dense)             (None, 44)                11308     \n",
      "                                                                 \n",
      "=================================================================\n",
      "Total params: 86,335,020\n",
      "Trainable params: 536,364\n",
      "Non-trainable params: 85,798,656\n",
      "_________________________________________________________________\n"
     ]
    }
   ],
   "source": [
    "# Generate Model\n",
    "model_vit_b16 = vit_b16_model()\n",
    "\n",
    "# Generate Summary of the Model\n",
    "model_vit_b16.summary()"
   ]
  },
  {
   "cell_type": "code",
   "execution_count": 5,
   "metadata": {},
   "outputs": [],
   "source": [
    "NUM_EPOCHS = 5"
   ]
  },
  {
   "cell_type": "code",
   "execution_count": 6,
   "metadata": {},
   "outputs": [
    {
     "name": "stdout",
     "output_type": "stream",
     "text": [
      "Found 3581 files belonging to 44 classes.\n",
      "Found 895 files belonging to 44 classes.\n"
     ]
    }
   ],
   "source": [
    "train_ds = tf.keras.utils.image_dataset_from_directory(\n",
    "    directory='training_data/',\n",
    "    labels='inferred',\n",
    "    label_mode='categorical',\n",
    "    batch_size=64,\n",
    "    image_size=(224, 224))\n",
    "\n",
    "\n",
    "validation_ds = tf.keras.utils.image_dataset_from_directory(\n",
    "    directory='validation_data/',\n",
    "    labels='inferred',\n",
    "    label_mode='categorical',\n",
    "    batch_size=64,\n",
    "    image_size=(224, 224))"
   ]
  },
  {
   "cell_type": "code",
   "execution_count": 7,
   "metadata": {},
   "outputs": [
    {
     "name": "stdout",
     "output_type": "stream",
     "text": [
      "Number of val batches: 14\n"
     ]
    }
   ],
   "source": [
    "val_batches = tf.data.experimental.cardinality(validation_ds)\n",
    "print('Number of val batches: %d' % val_batches)\n",
    "test_dataset = validation_ds.take(val_batches // 5)\n",
    "validation_data = validation_ds.skip(val_batches // 5)"
   ]
  },
  {
   "cell_type": "code",
   "execution_count": 8,
   "metadata": {},
   "outputs": [
    {
     "name": "stdout",
     "output_type": "stream",
     "text": [
      "Epoch 1/5\n"
     ]
    },
    {
     "name": "stderr",
     "output_type": "stream",
     "text": [
      "2023-05-16 11:53:55.302256: I tensorflow/core/common_runtime/executor.cc:1197] [/device:CPU:0] (DEBUG INFO) Executor start aborting (this does not indicate an error and you can ignore this message): INVALID_ARGUMENT: You must feed a value for placeholder tensor 'Placeholder/_0' with dtype string and shape [3581]\n",
      "\t [[{{node Placeholder/_0}}]]\n",
      "2023-05-16 11:53:55.303038: I tensorflow/core/common_runtime/executor.cc:1197] [/device:CPU:0] (DEBUG INFO) Executor start aborting (this does not indicate an error and you can ignore this message): INVALID_ARGUMENT: You must feed a value for placeholder tensor 'Placeholder/_0' with dtype string and shape [3581]\n",
      "\t [[{{node Placeholder/_0}}]]\n"
     ]
    },
    {
     "ename": "KeyboardInterrupt",
     "evalue": "",
     "output_type": "error",
     "traceback": [
      "\u001B[0;31m---------------------------------------------------------------------------\u001B[0m",
      "\u001B[0;31mKeyboardInterrupt\u001B[0m                         Traceback (most recent call last)",
      "Cell \u001B[0;32mIn[8], line 13\u001B[0m\n\u001B[1;32m      3\u001B[0m \u001B[39m# Compile the model\u001B[39;00m\n\u001B[1;32m      4\u001B[0m model_vit_b16\u001B[39m.\u001B[39mcompile(\n\u001B[1;32m      5\u001B[0m     loss\u001B[39m=\u001B[39mtf\u001B[39m.\u001B[39mkeras\u001B[39m.\u001B[39mlosses\u001B[39m.\u001B[39mCategoricalCrossentropy(),\n\u001B[1;32m      6\u001B[0m     \u001B[39m# loss = tf.keras.losses.BinaryCrossentropy(),\u001B[39;00m\n\u001B[0;32m   (...)\u001B[0m\n\u001B[1;32m      9\u001B[0m     metrics\u001B[39m=\u001B[39m[\u001B[39m'\u001B[39m\u001B[39maccuracy\u001B[39m\u001B[39m'\u001B[39m]\n\u001B[1;32m     10\u001B[0m )\n\u001B[0;32m---> 13\u001B[0m history \u001B[39m=\u001B[39m model_vit_b16\u001B[39m.\u001B[39;49mfit(train_ds,validation_data\u001B[39m=\u001B[39;49mvalidation_data, epochs\u001B[39m=\u001B[39;49mNUM_EPOCHS)\n\u001B[1;32m     14\u001B[0m \u001B[39mprint\u001B[39m(model_vit_b16\u001B[39m.\u001B[39mevaluate(test_dataset))\n",
      "File \u001B[0;32m~/anaconda3/lib/python3.10/site-packages/keras/utils/traceback_utils.py:65\u001B[0m, in \u001B[0;36mfilter_traceback.<locals>.error_handler\u001B[0;34m(*args, **kwargs)\u001B[0m\n\u001B[1;32m     63\u001B[0m filtered_tb \u001B[39m=\u001B[39m \u001B[39mNone\u001B[39;00m\n\u001B[1;32m     64\u001B[0m \u001B[39mtry\u001B[39;00m:\n\u001B[0;32m---> 65\u001B[0m     \u001B[39mreturn\u001B[39;00m fn(\u001B[39m*\u001B[39;49margs, \u001B[39m*\u001B[39;49m\u001B[39m*\u001B[39;49mkwargs)\n\u001B[1;32m     66\u001B[0m \u001B[39mexcept\u001B[39;00m \u001B[39mException\u001B[39;00m \u001B[39mas\u001B[39;00m e:\n\u001B[1;32m     67\u001B[0m     filtered_tb \u001B[39m=\u001B[39m _process_traceback_frames(e\u001B[39m.\u001B[39m__traceback__)\n",
      "File \u001B[0;32m~/anaconda3/lib/python3.10/site-packages/keras/engine/training.py:1685\u001B[0m, in \u001B[0;36mModel.fit\u001B[0;34m(self, x, y, batch_size, epochs, verbose, callbacks, validation_split, validation_data, shuffle, class_weight, sample_weight, initial_epoch, steps_per_epoch, validation_steps, validation_batch_size, validation_freq, max_queue_size, workers, use_multiprocessing)\u001B[0m\n\u001B[1;32m   1677\u001B[0m \u001B[39mwith\u001B[39;00m tf\u001B[39m.\u001B[39mprofiler\u001B[39m.\u001B[39mexperimental\u001B[39m.\u001B[39mTrace(\n\u001B[1;32m   1678\u001B[0m     \u001B[39m\"\u001B[39m\u001B[39mtrain\u001B[39m\u001B[39m\"\u001B[39m,\n\u001B[1;32m   1679\u001B[0m     epoch_num\u001B[39m=\u001B[39mepoch,\n\u001B[0;32m   (...)\u001B[0m\n\u001B[1;32m   1682\u001B[0m     _r\u001B[39m=\u001B[39m\u001B[39m1\u001B[39m,\n\u001B[1;32m   1683\u001B[0m ):\n\u001B[1;32m   1684\u001B[0m     callbacks\u001B[39m.\u001B[39mon_train_batch_begin(step)\n\u001B[0;32m-> 1685\u001B[0m     tmp_logs \u001B[39m=\u001B[39m \u001B[39mself\u001B[39;49m\u001B[39m.\u001B[39;49mtrain_function(iterator)\n\u001B[1;32m   1686\u001B[0m     \u001B[39mif\u001B[39;00m data_handler\u001B[39m.\u001B[39mshould_sync:\n\u001B[1;32m   1687\u001B[0m         context\u001B[39m.\u001B[39masync_wait()\n",
      "File \u001B[0;32m~/anaconda3/lib/python3.10/site-packages/tensorflow/python/util/traceback_utils.py:150\u001B[0m, in \u001B[0;36mfilter_traceback.<locals>.error_handler\u001B[0;34m(*args, **kwargs)\u001B[0m\n\u001B[1;32m    148\u001B[0m filtered_tb \u001B[39m=\u001B[39m \u001B[39mNone\u001B[39;00m\n\u001B[1;32m    149\u001B[0m \u001B[39mtry\u001B[39;00m:\n\u001B[0;32m--> 150\u001B[0m   \u001B[39mreturn\u001B[39;00m fn(\u001B[39m*\u001B[39;49margs, \u001B[39m*\u001B[39;49m\u001B[39m*\u001B[39;49mkwargs)\n\u001B[1;32m    151\u001B[0m \u001B[39mexcept\u001B[39;00m \u001B[39mException\u001B[39;00m \u001B[39mas\u001B[39;00m e:\n\u001B[1;32m    152\u001B[0m   filtered_tb \u001B[39m=\u001B[39m _process_traceback_frames(e\u001B[39m.\u001B[39m__traceback__)\n",
      "File \u001B[0;32m~/anaconda3/lib/python3.10/site-packages/tensorflow/python/eager/polymorphic_function/polymorphic_function.py:894\u001B[0m, in \u001B[0;36mFunction.__call__\u001B[0;34m(self, *args, **kwds)\u001B[0m\n\u001B[1;32m    891\u001B[0m compiler \u001B[39m=\u001B[39m \u001B[39m\"\u001B[39m\u001B[39mxla\u001B[39m\u001B[39m\"\u001B[39m \u001B[39mif\u001B[39;00m \u001B[39mself\u001B[39m\u001B[39m.\u001B[39m_jit_compile \u001B[39melse\u001B[39;00m \u001B[39m\"\u001B[39m\u001B[39mnonXla\u001B[39m\u001B[39m\"\u001B[39m\n\u001B[1;32m    893\u001B[0m \u001B[39mwith\u001B[39;00m OptionalXlaContext(\u001B[39mself\u001B[39m\u001B[39m.\u001B[39m_jit_compile):\n\u001B[0;32m--> 894\u001B[0m   result \u001B[39m=\u001B[39m \u001B[39mself\u001B[39;49m\u001B[39m.\u001B[39;49m_call(\u001B[39m*\u001B[39;49margs, \u001B[39m*\u001B[39;49m\u001B[39m*\u001B[39;49mkwds)\n\u001B[1;32m    896\u001B[0m new_tracing_count \u001B[39m=\u001B[39m \u001B[39mself\u001B[39m\u001B[39m.\u001B[39mexperimental_get_tracing_count()\n\u001B[1;32m    897\u001B[0m without_tracing \u001B[39m=\u001B[39m (tracing_count \u001B[39m==\u001B[39m new_tracing_count)\n",
      "File \u001B[0;32m~/anaconda3/lib/python3.10/site-packages/tensorflow/python/eager/polymorphic_function/polymorphic_function.py:959\u001B[0m, in \u001B[0;36mFunction._call\u001B[0;34m(self, *args, **kwds)\u001B[0m\n\u001B[1;32m    955\u001B[0m     \u001B[39mpass\u001B[39;00m  \u001B[39m# Fall through to cond-based initialization.\u001B[39;00m\n\u001B[1;32m    956\u001B[0m   \u001B[39melse\u001B[39;00m:\n\u001B[1;32m    957\u001B[0m     \u001B[39m# Lifting succeeded, so variables are initialized and we can run the\u001B[39;00m\n\u001B[1;32m    958\u001B[0m     \u001B[39m# no_variable_creation function.\u001B[39;00m\n\u001B[0;32m--> 959\u001B[0m     \u001B[39mreturn\u001B[39;00m \u001B[39mself\u001B[39;49m\u001B[39m.\u001B[39;49m_no_variable_creation_fn(\u001B[39m*\u001B[39;49margs, \u001B[39m*\u001B[39;49m\u001B[39m*\u001B[39;49mkwds)\n\u001B[1;32m    960\u001B[0m \u001B[39melse\u001B[39;00m:\n\u001B[1;32m    961\u001B[0m   _, _, filtered_flat_args \u001B[39m=\u001B[39m (\n\u001B[1;32m    962\u001B[0m       \u001B[39mself\u001B[39m\u001B[39m.\u001B[39m_variable_creation_fn\u001B[39m.\u001B[39m_function_spec  \u001B[39m# pylint: disable=protected-access\u001B[39;00m\n\u001B[1;32m    963\u001B[0m       \u001B[39m.\u001B[39mcanonicalize_function_inputs(\n\u001B[1;32m    964\u001B[0m           args, kwds))\n",
      "File \u001B[0;32m~/anaconda3/lib/python3.10/site-packages/tensorflow/python/eager/polymorphic_function/tracing_compiler.py:142\u001B[0m, in \u001B[0;36mTracingCompiler.__call__\u001B[0;34m(self, *args, **kwargs)\u001B[0m\n\u001B[1;32m    139\u001B[0m \u001B[39m\u001B[39m\u001B[39m\"\"\"Calls a graph function specialized to the inputs.\"\"\"\u001B[39;00m\n\u001B[1;32m    140\u001B[0m \u001B[39mwith\u001B[39;00m \u001B[39mself\u001B[39m\u001B[39m.\u001B[39m_lock:\n\u001B[1;32m    141\u001B[0m   (concrete_function,\n\u001B[0;32m--> 142\u001B[0m    filtered_flat_args) \u001B[39m=\u001B[39m \u001B[39mself\u001B[39;49m\u001B[39m.\u001B[39;49m_maybe_define_function(args, kwargs)\n\u001B[1;32m    143\u001B[0m \u001B[39mreturn\u001B[39;00m concrete_function\u001B[39m.\u001B[39m_call_flat(\n\u001B[1;32m    144\u001B[0m     filtered_flat_args, captured_inputs\u001B[39m=\u001B[39mconcrete_function\u001B[39m.\u001B[39mcaptured_inputs)\n",
      "File \u001B[0;32m~/anaconda3/lib/python3.10/site-packages/tensorflow/python/eager/polymorphic_function/tracing_compiler.py:396\u001B[0m, in \u001B[0;36mTracingCompiler._maybe_define_function\u001B[0;34m(self, args, kwargs)\u001B[0m\n\u001B[1;32m    393\u001B[0m   args \u001B[39m=\u001B[39m placeholder_bound_args\u001B[39m.\u001B[39margs\n\u001B[1;32m    394\u001B[0m kwargs \u001B[39m=\u001B[39m placeholder_bound_args\u001B[39m.\u001B[39mkwargs\n\u001B[0;32m--> 396\u001B[0m concrete_function \u001B[39m=\u001B[39m \u001B[39mself\u001B[39;49m\u001B[39m.\u001B[39;49m_create_concrete_function(\n\u001B[1;32m    397\u001B[0m     args, kwargs, func_graph)\n\u001B[1;32m    399\u001B[0m \u001B[39m# TODO(b/263520817): Remove access to private attribute.\u001B[39;00m\n\u001B[1;32m    400\u001B[0m graph_capture_container \u001B[39m=\u001B[39m concrete_function\u001B[39m.\u001B[39mgraph\u001B[39m.\u001B[39m_function_captures  \u001B[39m# pylint: disable=protected-access\u001B[39;00m\n",
      "File \u001B[0;32m~/anaconda3/lib/python3.10/site-packages/tensorflow/python/eager/polymorphic_function/tracing_compiler.py:300\u001B[0m, in \u001B[0;36mTracingCompiler._create_concrete_function\u001B[0;34m(self, args, kwargs, func_graph)\u001B[0m\n\u001B[1;32m    296\u001B[0m \u001B[39melse\u001B[39;00m:\n\u001B[1;32m    297\u001B[0m   arg_names \u001B[39m=\u001B[39m base_arg_names\n\u001B[1;32m    299\u001B[0m concrete_function \u001B[39m=\u001B[39m monomorphic_function\u001B[39m.\u001B[39mConcreteFunction(\n\u001B[0;32m--> 300\u001B[0m     func_graph_module\u001B[39m.\u001B[39;49mfunc_graph_from_py_func(\n\u001B[1;32m    301\u001B[0m         \u001B[39mself\u001B[39;49m\u001B[39m.\u001B[39;49m_name,\n\u001B[1;32m    302\u001B[0m         \u001B[39mself\u001B[39;49m\u001B[39m.\u001B[39;49m_python_function,\n\u001B[1;32m    303\u001B[0m         args,\n\u001B[1;32m    304\u001B[0m         kwargs,\n\u001B[1;32m    305\u001B[0m         \u001B[39mNone\u001B[39;49;00m,\n\u001B[1;32m    306\u001B[0m         func_graph\u001B[39m=\u001B[39;49mfunc_graph,\n\u001B[1;32m    307\u001B[0m         autograph\u001B[39m=\u001B[39;49m\u001B[39mself\u001B[39;49m\u001B[39m.\u001B[39;49m_autograph,\n\u001B[1;32m    308\u001B[0m         autograph_options\u001B[39m=\u001B[39;49m\u001B[39mself\u001B[39;49m\u001B[39m.\u001B[39;49m_autograph_options,\n\u001B[1;32m    309\u001B[0m         arg_names\u001B[39m=\u001B[39;49marg_names,\n\u001B[1;32m    310\u001B[0m         capture_by_value\u001B[39m=\u001B[39;49m\u001B[39mself\u001B[39;49m\u001B[39m.\u001B[39;49m_capture_by_value,\n\u001B[1;32m    311\u001B[0m         create_placeholders\u001B[39m=\u001B[39;49m\u001B[39mFalse\u001B[39;49;00m),\n\u001B[1;32m    312\u001B[0m     \u001B[39mself\u001B[39m\u001B[39m.\u001B[39m_function_attributes,\n\u001B[1;32m    313\u001B[0m     spec\u001B[39m=\u001B[39m\u001B[39mself\u001B[39m\u001B[39m.\u001B[39mfunction_spec,\n\u001B[1;32m    314\u001B[0m     \u001B[39m# Tell the ConcreteFunction to clean up its graph once it goes out of\u001B[39;00m\n\u001B[1;32m    315\u001B[0m     \u001B[39m# scope. This is not the default behavior since it gets used in some\u001B[39;00m\n\u001B[1;32m    316\u001B[0m     \u001B[39m# places (like Keras) where the FuncGraph lives longer than the\u001B[39;00m\n\u001B[1;32m    317\u001B[0m     \u001B[39m# ConcreteFunction.\u001B[39;00m\n\u001B[1;32m    318\u001B[0m     shared_func_graph\u001B[39m=\u001B[39m\u001B[39mFalse\u001B[39;00m)\n\u001B[1;32m    319\u001B[0m \u001B[39mreturn\u001B[39;00m concrete_function\n",
      "File \u001B[0;32m~/anaconda3/lib/python3.10/site-packages/tensorflow/python/framework/func_graph.py:1113\u001B[0m, in \u001B[0;36mfunc_graph_from_py_func\u001B[0;34m(name, python_func, args, kwargs, signature, func_graph, autograph, autograph_options, add_control_dependencies, arg_names, op_return_value, collections, capture_by_value, create_placeholders, acd_record_initial_resource_uses)\u001B[0m\n\u001B[1;32m   1110\u001B[0m \u001B[39melse\u001B[39;00m:\n\u001B[1;32m   1111\u001B[0m   deps_control_manager \u001B[39m=\u001B[39m ops\u001B[39m.\u001B[39mNullContextmanager()\n\u001B[0;32m-> 1113\u001B[0m \u001B[39mwith\u001B[39;00m func_graph\u001B[39m.\u001B[39mas_default(), deps_control_manager \u001B[39mas\u001B[39;00m deps_ctx:\n\u001B[1;32m   1114\u001B[0m   current_scope \u001B[39m=\u001B[39m variable_scope\u001B[39m.\u001B[39mget_variable_scope()\n\u001B[1;32m   1115\u001B[0m   default_use_resource \u001B[39m=\u001B[39m current_scope\u001B[39m.\u001B[39muse_resource\n",
      "File \u001B[0;32m~/anaconda3/lib/python3.10/site-packages/tensorflow/python/framework/auto_control_deps.py:433\u001B[0m, in \u001B[0;36mAutomaticControlDependencies.__exit__\u001B[0;34m(self, unused_type, unused_value, unused_traceback)\u001B[0m\n\u001B[1;32m    427\u001B[0m   \u001B[39mcontinue\u001B[39;00m\n\u001B[1;32m    429\u001B[0m \u001B[39m# Ensure stateful ops run.\u001B[39;00m\n\u001B[1;32m    430\u001B[0m \u001B[39m# Read-only ops are added to control outputs if the read value is\u001B[39;00m\n\u001B[1;32m    431\u001B[0m \u001B[39m# consumed. This covers the case when the read value is returned from\u001B[39;00m\n\u001B[1;32m    432\u001B[0m \u001B[39m# the function since that goes through a tf.identity in mark_as_return.\u001B[39;00m\n\u001B[0;32m--> 433\u001B[0m \u001B[39mif\u001B[39;00m ((op_def_registry\u001B[39m.\u001B[39;49mget(op\u001B[39m.\u001B[39;49mtype) \u001B[39mis\u001B[39;00m \u001B[39mNone\u001B[39;00m) \u001B[39mor\u001B[39;00m\n\u001B[1;32m    434\u001B[0m     (op_is_stateful(op) \u001B[39mand\u001B[39;00m\n\u001B[1;32m    435\u001B[0m      (op\u001B[39m.\u001B[39mtype \u001B[39mnot\u001B[39;00m \u001B[39min\u001B[39;00m utils\u001B[39m.\u001B[39mRESOURCE_READ_OPS \u001B[39mor\u001B[39;00m\n\u001B[1;32m    436\u001B[0m       \u001B[39many\u001B[39m(output\u001B[39m.\u001B[39mconsumers() \u001B[39mfor\u001B[39;00m output \u001B[39min\u001B[39;00m op\u001B[39m.\u001B[39moutputs)))):\n\u001B[1;32m    437\u001B[0m   ops_which_must_run\u001B[39m.\u001B[39madd(op)\n\u001B[1;32m    439\u001B[0m \u001B[39m# Make a note of all opened manager_ids.\u001B[39;00m\n",
      "\u001B[0;31mKeyboardInterrupt\u001B[0m: "
     ]
    }
   ],
   "source": [
    "tf.random.set_seed(CFG_SEED)\n",
    "\n",
    "# Compile the model\n",
    "model_vit_b16.compile(\n",
    "    loss=tf.keras.losses.CategoricalCrossentropy(),\n",
    "    # loss = tf.keras.losses.BinaryCrossentropy(),\n",
    "\n",
    "    optimizer=tf.keras.optimizers.Adam(learning_rate=0.001),\n",
    "    metrics=['accuracy']\n",
    ")\n",
    "\n",
    "\n",
    "history = model_vit_b16.fit(train_ds,validation_data=validation_data, epochs=NUM_EPOCHS)\n",
    "print(model_vit_b16.evaluate(test_dataset))"
   ]
  },
  {
   "cell_type": "code",
   "execution_count": null,
   "metadata": {},
   "outputs": [],
   "source": [
    "from matplotlib import pyplot as plt\n",
    "\n",
    "plt.plot(history.history['acc'])\n",
    "plt.plot(history.history['val_acc'])\n",
    "plt.title('model accuracy')\n",
    "plt.ylabel('accuracy')\n",
    "plt.xlabel('epoch')\n",
    "plt.legend(['train', 'val'], loc='upper left')\n",
    "plt.show()\n",
    "\n",
    "plt.plot(history.history['loss'])\n",
    "plt.plot(history.history['val_loss'])\n",
    "plt.title('model loss')\n",
    "plt.ylabel('loss')\n",
    "plt.xlabel('epoch')\n",
    "plt.legend(['train', 'val'], loc='upper left')\n",
    "plt.show()"
   ]
  }
 ],
 "metadata": {
  "kernelspec": {
   "display_name": "base",
   "language": "python",
   "name": "python3"
  },
  "language_info": {
   "codemirror_mode": {
    "name": "ipython",
    "version": 3
   },
   "file_extension": ".py",
   "mimetype": "text/x-python",
   "name": "python",
   "nbconvert_exporter": "python",
   "pygments_lexer": "ipython3",
   "version": "3.10.9"
  },
  "orig_nbformat": 4
 },
 "nbformat": 4,
 "nbformat_minor": 2
}
