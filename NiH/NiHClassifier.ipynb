{
 "cells": [
  {
   "cell_type": "code",
   "execution_count": 5,
   "id": "a52fc4f0-d578-4a03-93fb-a5b2b0d22b5b",
   "metadata": {},
   "outputs": [],
   "source": [
    "import tensorflow as tf\n",
    "import os\n",
    "\n",
    "from datetime import datetime\n",
    "\n",
    "import json\n",
    "\n",
    "import numpy as np\n",
    "import pandas as pd\n",
    "import matplotlib.pyplot as plt\n",
    "from typing import *"
   ]
  },
  {
   "cell_type": "code",
   "execution_count": 4,
   "id": "32999bb7-2a58-496b-8369-efe883f4ad66",
   "metadata": {},
   "outputs": [],
   "source": [
    "class NiHClassifier(tf.keras.Model):\n",
    "    def __init__(self, number_of_output_classes: int,\n",
    "                 image_shape: Tuple[int, int, int] = (224, 224, 3)):\n",
    "        super().__init__()\n",
    "        self.number_of_output_classes: int = number_of_output_classes\n",
    "        self.image_shape: Tuple[int, int, int] = image_shape\n",
    "\n",
    "        self.pretrained_resnet50 = tf.keras.applications.resnet50.ResNet50(include_top=False,\n",
    "                                                                           weights=\"imagenet\",\n",
    "                                                                           input_shape=image_shape)\n",
    "        self.pretrained_resnet50.trainable = False\n",
    "\n",
    "        self.global_average_pooling = tf.keras.layers.GlobalAveragePooling2D()\n",
    "        self.prediction_layer = tf.keras.Sequential([\n",
    "            tf.keras.layers.Dense(256, activation='relu'),\n",
    "            tf.keras.layers.Dense(self.number_of_output_classes, activation=tf.keras.activations.sigmoid)\n",
    "        ])\n",
    "\n",
    "        self.build(input_shape=(None, image_shape[0], image_shape[1], image_shape[2]))\n",
    "        \n",
    "    def unfreeze_top_layers(self, fine_tune_top_n: int):\n",
    "        self.pretrained_resnet50.trainable = True\n",
    "\n",
    "        number_of_layers: int = len(self.pretrained_resnet50.layers)\n",
    "        layers_to_freeze: int = number_of_layers - fine_tune_top_n\n",
    "\n",
    "        for i in range(layers_to_freeze):\n",
    "            self.pretrained_resnet50.layers[i].trainable = False\n",
    "\n",
    "    def call(self, inputs, training=None, mask=None):\n",
    "        resnet_features = self.pretrained_resnet50(inputs, training=training)\n",
    "        avg_pooling_features = self.global_average_pooling(resnet_features)\n",
    "        predictions = self.prediction_layer(avg_pooling_features)\n",
    "        return predictions\n"
   ]
  },
  {
   "cell_type": "code",
   "execution_count": 6,
   "id": "6a7f8f31-e415-4466-b98c-c65c22327047",
   "metadata": {},
   "outputs": [],
   "source": [
    "def read_image_data_augmentation(file_path, label):\n",
    "    image = tf.io.read_file(file_path)\n",
    "    image = tf.image.decode_image(image, channels=3, dtype=tf.float32)\n",
    "    if tf.random.uniform(shape=[]) > 0.5:\n",
    "        image = tf.image.flip_left_right(image)\n",
    "    return image, label"
   ]
  },
  {
   "cell_type": "code",
   "execution_count": 8,
   "id": "5e92469b-774a-4e07-bf41-07b0595274d0",
   "metadata": {},
   "outputs": [],
   "source": [
    "def read_image(file_path, label):\n",
    "    image = tf.io.read_file(file_path)\n",
    "    image = tf.image.decode_image(image, channels=3, dtype=tf.float32)\n",
    "    return image, label"
   ]
  },
  {
   "cell_type": "code",
   "execution_count": 9,
   "id": "1e50e06a-dca9-407c-a152-662a980f07c9",
   "metadata": {},
   "outputs": [],
   "source": [
    "def scheduler(epoch: int, lr: float) -> float:\n",
    "    if epoch < 10:\n",
    "        return lr\n",
    "    else:\n",
    "        return lr*tf.math.exp(-0.1)"
   ]
  },
  {
   "cell_type": "code",
   "execution_count": null,
   "id": "1c705fa5-ef33-4327-94f0-c0eef8999df3",
   "metadata": {},
   "outputs": [],
   "source": []
  }
 ],
 "metadata": {
  "kernelspec": {
   "display_name": "TensorFlow 2 (Local)",
   "language": "python",
   "name": "local-tf2"
  },
  "language_info": {
   "codemirror_mode": {
    "name": "ipython",
    "version": 3
   },
   "file_extension": ".py",
   "mimetype": "text/x-python",
   "name": "python",
   "nbconvert_exporter": "python",
   "pygments_lexer": "ipython3",
   "version": "3.7.12"
  }
 },
 "nbformat": 4,
 "nbformat_minor": 5
}
