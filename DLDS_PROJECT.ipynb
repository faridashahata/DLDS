{
 "nbformat": 4,
 "nbformat_minor": 0,
 "metadata": {
  "colab": {
   "provenance": []
  },
  "kernelspec": {
   "name": "python3",
   "language": "python",
   "display_name": "Python 3 (ipykernel)"
  },
  "language_info": {
   "name": "python"
  }
 },
 "cells": [
  {
   "cell_type": "code",
   "execution_count": 3,
   "metadata": {
    "colab": {
     "base_uri": "https://localhost:8080/"
    },
    "id": "REbLctzTP5zi",
    "outputId": "523a3a28-6c80-4635-bf17-6cb9d1454509",
    "ExecuteTime": {
     "end_time": "2023-05-17T00:11:44.727589Z",
     "start_time": "2023-05-17T00:11:41.875662Z"
    }
   },
   "outputs": [
    {
     "name": "stdout",
     "output_type": "stream",
     "text": [
      "Requirement already satisfied: vit-keras in /Users/faridashahata/miniconda3/lib/python3.10/site-packages (0.1.2)\r\n",
      "Requirement already satisfied: scipy in /Users/faridashahata/miniconda3/lib/python3.10/site-packages (from vit-keras) (1.10.1)\r\n",
      "Requirement already satisfied: validators in /Users/faridashahata/miniconda3/lib/python3.10/site-packages (from vit-keras) (0.20.0)\r\n",
      "Requirement already satisfied: numpy<1.27.0,>=1.19.5 in /Users/faridashahata/miniconda3/lib/python3.10/site-packages (from scipy->vit-keras) (1.23.5)\r\n",
      "Requirement already satisfied: decorator>=3.4.0 in /Users/faridashahata/miniconda3/lib/python3.10/site-packages (from validators->vit-keras) (5.1.1)\r\n",
      "Requirement already satisfied: tensorflow_addons in /Users/faridashahata/miniconda3/lib/python3.10/site-packages (0.20.0)\r\n",
      "Requirement already satisfied: typeguard<3.0.0,>=2.7 in /Users/faridashahata/miniconda3/lib/python3.10/site-packages (from tensorflow_addons) (2.13.3)\r\n",
      "Requirement already satisfied: packaging in /Users/faridashahata/miniconda3/lib/python3.10/site-packages (from tensorflow_addons) (23.0)\r\n"
     ]
    },
    {
     "ename": "ImportError",
     "evalue": "cannot import name 'tf_utils' from 'keras.utils' (/Users/faridashahata/miniconda3/lib/python3.10/site-packages/keras/utils/__init__.py)",
     "output_type": "error",
     "traceback": [
      "\u001B[0;31m---------------------------------------------------------------------------\u001B[0m",
      "\u001B[0;31mImportError\u001B[0m                               Traceback (most recent call last)",
      "Cell \u001B[0;32mIn[3], line 3\u001B[0m\n\u001B[1;32m      1\u001B[0m get_ipython()\u001B[38;5;241m.\u001B[39msystem(\u001B[38;5;124m'\u001B[39m\u001B[38;5;124mpip install vit-keras\u001B[39m\u001B[38;5;124m'\u001B[39m)\n\u001B[1;32m      2\u001B[0m get_ipython()\u001B[38;5;241m.\u001B[39msystem(\u001B[38;5;124m'\u001B[39m\u001B[38;5;124mpip install tensorflow_addons\u001B[39m\u001B[38;5;124m'\u001B[39m)\n\u001B[0;32m----> 3\u001B[0m \u001B[38;5;28;01mfrom\u001B[39;00m \u001B[38;5;21;01mvit_keras\u001B[39;00m \u001B[38;5;28;01mimport\u001B[39;00m vit\n\u001B[1;32m      4\u001B[0m \u001B[38;5;28;01mimport\u001B[39;00m \u001B[38;5;21;01mtensorflow\u001B[39;00m \u001B[38;5;28;01mas\u001B[39;00m \u001B[38;5;21;01mtf\u001B[39;00m\n\u001B[1;32m      5\u001B[0m \u001B[38;5;28;01mfrom\u001B[39;00m \u001B[38;5;21;01mtyping\u001B[39;00m \u001B[38;5;28;01mimport\u001B[39;00m \u001B[38;5;241m*\u001B[39m\n",
      "File \u001B[0;32m~/miniconda3/lib/python3.10/site-packages/vit_keras/vit.py:6\u001B[0m\n\u001B[1;32m      3\u001B[0m \u001B[38;5;28;01mimport\u001B[39;00m \u001B[38;5;21;01mtensorflow\u001B[39;00m \u001B[38;5;28;01mas\u001B[39;00m \u001B[38;5;21;01mtf\u001B[39;00m\n\u001B[1;32m      4\u001B[0m \u001B[38;5;28;01mimport\u001B[39;00m \u001B[38;5;21;01mtyping_extensions\u001B[39;00m \u001B[38;5;28;01mas\u001B[39;00m \u001B[38;5;21;01mtx\u001B[39;00m\n\u001B[0;32m----> 6\u001B[0m \u001B[38;5;28;01mfrom\u001B[39;00m \u001B[38;5;21;01m.\u001B[39;00m \u001B[38;5;28;01mimport\u001B[39;00m layers, utils\n\u001B[1;32m      8\u001B[0m ConfigDict \u001B[38;5;241m=\u001B[39m tx\u001B[38;5;241m.\u001B[39mTypedDict(\n\u001B[1;32m      9\u001B[0m     \u001B[38;5;124m\"\u001B[39m\u001B[38;5;124mConfigDict\u001B[39m\u001B[38;5;124m\"\u001B[39m,\n\u001B[1;32m     10\u001B[0m     {\n\u001B[0;32m   (...)\u001B[0m\n\u001B[1;32m     16\u001B[0m     },\n\u001B[1;32m     17\u001B[0m )\n\u001B[1;32m     19\u001B[0m CONFIG_B: ConfigDict \u001B[38;5;241m=\u001B[39m {\n\u001B[1;32m     20\u001B[0m     \u001B[38;5;124m\"\u001B[39m\u001B[38;5;124mdropout\u001B[39m\u001B[38;5;124m\"\u001B[39m: \u001B[38;5;241m0.1\u001B[39m,\n\u001B[1;32m     21\u001B[0m     \u001B[38;5;124m\"\u001B[39m\u001B[38;5;124mmlp_dim\u001B[39m\u001B[38;5;124m\"\u001B[39m: \u001B[38;5;241m3072\u001B[39m,\n\u001B[0;32m   (...)\u001B[0m\n\u001B[1;32m     24\u001B[0m     \u001B[38;5;124m\"\u001B[39m\u001B[38;5;124mhidden_size\u001B[39m\u001B[38;5;124m\"\u001B[39m: \u001B[38;5;241m768\u001B[39m,\n\u001B[1;32m     25\u001B[0m }\n",
      "File \u001B[0;32m~/miniconda3/lib/python3.10/site-packages/vit_keras/layers.py:3\u001B[0m\n\u001B[1;32m      1\u001B[0m \u001B[38;5;66;03m# pylint: disable=arguments-differ,missing-function-docstring,missing-class-docstring,unexpected-keyword-arg,no-value-for-parameter\u001B[39;00m\n\u001B[1;32m      2\u001B[0m \u001B[38;5;28;01mimport\u001B[39;00m \u001B[38;5;21;01mtensorflow\u001B[39;00m \u001B[38;5;28;01mas\u001B[39;00m \u001B[38;5;21;01mtf\u001B[39;00m\n\u001B[0;32m----> 3\u001B[0m \u001B[38;5;28;01mimport\u001B[39;00m \u001B[38;5;21;01mtensorflow_addons\u001B[39;00m \u001B[38;5;28;01mas\u001B[39;00m \u001B[38;5;21;01mtfa\u001B[39;00m\n\u001B[1;32m      6\u001B[0m \u001B[38;5;129m@tf\u001B[39m\u001B[38;5;241m.\u001B[39mkeras\u001B[38;5;241m.\u001B[39mutils\u001B[38;5;241m.\u001B[39mregister_keras_serializable()\n\u001B[1;32m      7\u001B[0m \u001B[38;5;28;01mclass\u001B[39;00m \u001B[38;5;21;01mClassToken\u001B[39;00m(tf\u001B[38;5;241m.\u001B[39mkeras\u001B[38;5;241m.\u001B[39mlayers\u001B[38;5;241m.\u001B[39mLayer):\n\u001B[1;32m      8\u001B[0m \u001B[38;5;250m    \u001B[39m\u001B[38;5;124;03m\"\"\"Append a class token to an input layer.\"\"\"\u001B[39;00m\n",
      "File \u001B[0;32m~/miniconda3/lib/python3.10/site-packages/tensorflow_addons/__init__.py:29\u001B[0m\n\u001B[1;32m     27\u001B[0m \u001B[38;5;28;01mfrom\u001B[39;00m \u001B[38;5;21;01mtensorflow_addons\u001B[39;00m \u001B[38;5;28;01mimport\u001B[39;00m losses\n\u001B[1;32m     28\u001B[0m \u001B[38;5;28;01mfrom\u001B[39;00m \u001B[38;5;21;01mtensorflow_addons\u001B[39;00m \u001B[38;5;28;01mimport\u001B[39;00m metrics\n\u001B[0;32m---> 29\u001B[0m \u001B[38;5;28;01mfrom\u001B[39;00m \u001B[38;5;21;01mtensorflow_addons\u001B[39;00m \u001B[38;5;28;01mimport\u001B[39;00m optimizers\n\u001B[1;32m     30\u001B[0m \u001B[38;5;28;01mfrom\u001B[39;00m \u001B[38;5;21;01mtensorflow_addons\u001B[39;00m \u001B[38;5;28;01mimport\u001B[39;00m rnn\n\u001B[1;32m     31\u001B[0m \u001B[38;5;28;01mfrom\u001B[39;00m \u001B[38;5;21;01mtensorflow_addons\u001B[39;00m \u001B[38;5;28;01mimport\u001B[39;00m seq2seq\n",
      "File \u001B[0;32m~/miniconda3/lib/python3.10/site-packages/tensorflow_addons/optimizers/__init__.py:30\u001B[0m\n\u001B[1;32m     24\u001B[0m \u001B[38;5;28;01mfrom\u001B[39;00m \u001B[38;5;21;01mtensorflow_addons\u001B[39;00m\u001B[38;5;21;01m.\u001B[39;00m\u001B[38;5;21;01moptimizers\u001B[39;00m\u001B[38;5;21;01m.\u001B[39;00m\u001B[38;5;21;01mcyclical_learning_rate\u001B[39;00m \u001B[38;5;28;01mimport\u001B[39;00m (\n\u001B[1;32m     25\u001B[0m     Triangular2CyclicalLearningRate,\n\u001B[1;32m     26\u001B[0m )\n\u001B[1;32m     27\u001B[0m \u001B[38;5;28;01mfrom\u001B[39;00m \u001B[38;5;21;01mtensorflow_addons\u001B[39;00m\u001B[38;5;21;01m.\u001B[39;00m\u001B[38;5;21;01moptimizers\u001B[39;00m\u001B[38;5;21;01m.\u001B[39;00m\u001B[38;5;21;01mcyclical_learning_rate\u001B[39;00m \u001B[38;5;28;01mimport\u001B[39;00m (\n\u001B[1;32m     28\u001B[0m     ExponentialCyclicalLearningRate,\n\u001B[1;32m     29\u001B[0m )\n\u001B[0;32m---> 30\u001B[0m \u001B[38;5;28;01mfrom\u001B[39;00m \u001B[38;5;21;01mtensorflow_addons\u001B[39;00m\u001B[38;5;21;01m.\u001B[39;00m\u001B[38;5;21;01moptimizers\u001B[39;00m\u001B[38;5;21;01m.\u001B[39;00m\u001B[38;5;21;01mdiscriminative_layer_training\u001B[39;00m \u001B[38;5;28;01mimport\u001B[39;00m (\n\u001B[1;32m     31\u001B[0m     MultiOptimizer,\n\u001B[1;32m     32\u001B[0m )\n\u001B[1;32m     33\u001B[0m \u001B[38;5;28;01mfrom\u001B[39;00m \u001B[38;5;21;01mtensorflow_addons\u001B[39;00m\u001B[38;5;21;01m.\u001B[39;00m\u001B[38;5;21;01moptimizers\u001B[39;00m\u001B[38;5;21;01m.\u001B[39;00m\u001B[38;5;21;01mlamb\u001B[39;00m \u001B[38;5;28;01mimport\u001B[39;00m LAMB\n\u001B[1;32m     34\u001B[0m \u001B[38;5;28;01mfrom\u001B[39;00m \u001B[38;5;21;01mtensorflow_addons\u001B[39;00m\u001B[38;5;21;01m.\u001B[39;00m\u001B[38;5;21;01moptimizers\u001B[39;00m\u001B[38;5;21;01m.\u001B[39;00m\u001B[38;5;21;01mlazy_adam\u001B[39;00m \u001B[38;5;28;01mimport\u001B[39;00m LazyAdam\n",
      "File \u001B[0;32m~/miniconda3/lib/python3.10/site-packages/tensorflow_addons/optimizers/discriminative_layer_training.py:25\u001B[0m\n\u001B[1;32m     22\u001B[0m \u001B[38;5;28;01mfrom\u001B[39;00m \u001B[38;5;21;01mtypeguard\u001B[39;00m \u001B[38;5;28;01mimport\u001B[39;00m typechecked\n\u001B[1;32m     24\u001B[0m \u001B[38;5;28;01mfrom\u001B[39;00m \u001B[38;5;21;01mkeras\u001B[39;00m \u001B[38;5;28;01mimport\u001B[39;00m backend\n\u001B[0;32m---> 25\u001B[0m \u001B[38;5;28;01mfrom\u001B[39;00m \u001B[38;5;21;01mkeras\u001B[39;00m\u001B[38;5;21;01m.\u001B[39;00m\u001B[38;5;21;01mutils\u001B[39;00m \u001B[38;5;28;01mimport\u001B[39;00m tf_utils\n\u001B[1;32m     28\u001B[0m \u001B[38;5;129m@tf\u001B[39m\u001B[38;5;241m.\u001B[39mkeras\u001B[38;5;241m.\u001B[39mutils\u001B[38;5;241m.\u001B[39mregister_keras_serializable(package\u001B[38;5;241m=\u001B[39m\u001B[38;5;124m\"\u001B[39m\u001B[38;5;124mAddons\u001B[39m\u001B[38;5;124m\"\u001B[39m)\n\u001B[1;32m     29\u001B[0m \u001B[38;5;28;01mclass\u001B[39;00m \u001B[38;5;21;01mMultiOptimizer\u001B[39;00m(KerasLegacyOptimizer):\n\u001B[1;32m     30\u001B[0m \u001B[38;5;250m    \u001B[39m\u001B[38;5;124;03m\"\"\"Multi Optimizer Wrapper for Discriminative Layer Training.\u001B[39;00m\n\u001B[1;32m     31\u001B[0m \n\u001B[1;32m     32\u001B[0m \u001B[38;5;124;03m    Creates a wrapper around a set of instantiated optimizer layer pairs.\u001B[39;00m\n\u001B[0;32m   (...)\u001B[0m\n\u001B[1;32m     78\u001B[0m \u001B[38;5;124;03m    would with any other optimizer.\u001B[39;00m\n\u001B[1;32m     79\u001B[0m \u001B[38;5;124;03m    \"\"\"\u001B[39;00m\n",
      "\u001B[0;31mImportError\u001B[0m: cannot import name 'tf_utils' from 'keras.utils' (/Users/faridashahata/miniconda3/lib/python3.10/site-packages/keras/utils/__init__.py)"
     ]
    }
   ],
   "source": [
    "!pip install vit-keras\n",
    "!pip install tensorflow_addons\n",
    "from vit_keras import vit\n",
    "import tensorflow as tf\n",
    "from typing import *\n",
    "from tqdm import tqdm\n",
    "\n"
   ]
  },
  {
   "cell_type": "code",
   "source": [
    "from google.colab import drive\n",
    "drive.mount('/content/drive')"
   ],
   "metadata": {
    "colab": {
     "base_uri": "https://localhost:8080/"
    },
    "id": "IIgISpNgcN4x",
    "outputId": "7b66a519-ddd3-4ad5-ec1e-dec9cd8e1302"
   },
   "execution_count": 10,
   "outputs": [
    {
     "output_type": "stream",
     "name": "stdout",
     "text": [
      "Mounted at /content/drive\n"
     ]
    }
   ]
  },
  {
   "cell_type": "code",
   "source": [],
   "metadata": {
    "id": "14U6f3F-cSFz"
   },
   "execution_count": null,
   "outputs": []
  },
  {
   "cell_type": "code",
   "source": [
    "vit_model = vit.vit_b16(\n",
    "        image_size=224,\n",
    "        activation='softmax',\n",
    "        pretrained=True,\n",
    "        include_top=False,\n",
    "        pretrained_top=False,\n",
    "        classes=44)\n",
    "\n",
    "for layer in vit_model.layers:\n",
    "    layer.trainable = False\n"
   ],
   "metadata": {
    "id": "PcCyQe79P_yM"
   },
   "execution_count": 25,
   "outputs": []
  },
  {
   "cell_type": "code",
   "source": [
    "initializer = tf.keras.initializers.GlorotNormal(seed=CFG_SEED)"
   ],
   "metadata": {
    "id": "60_Lwbcqo_YF"
   },
   "execution_count": 27,
   "outputs": []
  },
  {
   "cell_type": "code",
   "source": [
    "def vit_b16_model():    \n",
    "    vit_b16_sequential = tf.keras.Sequential([\n",
    "        tf.keras.layers.Input(shape=(224,224,3), dtype=tf.float32, name='input_image'),\n",
    "        vit_model,\n",
    "        tf.keras.layers.Dropout(0.2),\n",
    "        tf.keras.layers.Dense(512, activation='relu', kernel_initializer=initializer),\n",
    "        tf.keras.layers.Dense(256, activation='relu', kernel_initializer=initializer),\n",
    "        tf.keras.layers.Dense(44, dtype=tf.float32, activation='softmax', kernel_initializer=initializer)\n",
    "    ], name='vit_b16_sequential_model')\n",
    "    \n",
    "    return vit_b16_sequential"
   ],
   "metadata": {
    "id": "I6m6IyaRROJ_"
   },
   "execution_count": 28,
   "outputs": []
  },
  {
   "cell_type": "code",
   "source": [
    "# Generate Model\n",
    "model_vit_b16 = vit_b16_model()\n",
    "\n",
    "# Generate Summary of the Model\n",
    "model_vit_b16.summary()"
   ],
   "metadata": {
    "colab": {
     "base_uri": "https://localhost:8080/"
    },
    "id": "jrDSynRpRR6O",
    "outputId": "e8e583b5-3efe-48a4-ba8a-72c53e2b7ed6"
   },
   "execution_count": 29,
   "outputs": [
    {
     "output_type": "stream",
     "name": "stdout",
     "text": [
      "Model: \"vit_b16_sequential_model\"\n",
      "_________________________________________________________________\n",
      " Layer (type)                Output Shape              Param #   \n",
      "=================================================================\n",
      " vit-b16 (Functional)        (None, 768)               85798656  \n",
      "                                                                 \n",
      " dropout_2 (Dropout)         (None, 768)               0         \n",
      "                                                                 \n",
      " dense_6 (Dense)             (None, 512)               393728    \n",
      "                                                                 \n",
      " dense_7 (Dense)             (None, 256)               131328    \n",
      "                                                                 \n",
      " dense_8 (Dense)             (None, 44)                11308     \n",
      "                                                                 \n",
      "=================================================================\n",
      "Total params: 86,335,020\n",
      "Trainable params: 536,364\n",
      "Non-trainable params: 85,798,656\n",
      "_________________________________________________________________\n"
     ]
    }
   ]
  },
  {
   "cell_type": "code",
   "source": [
    "CFG_SEED=71\n",
    "NUM_EPOCHS = 2"
   ],
   "metadata": {
    "id": "o_JNuhbXRUZ1"
   },
   "execution_count": 23,
   "outputs": []
  },
  {
   "cell_type": "code",
   "source": [
    "train_ds = tf.keras.utils.image_dataset_from_directory(\n",
    "    #directory='training_data/',\n",
    "    directory='/content/drive/MyDrive/Colab Notebooks/training_data',\n",
    "    labels='inferred',\n",
    "    label_mode='categorical',\n",
    "    batch_size=32,\n",
    "    image_size=(224, 224))\n",
    "\n",
    "\n",
    "validation_ds = tf.keras.utils.image_dataset_from_directory(\n",
    "    #directory='validation_data/',\n",
    "    directory='/content/drive/MyDrive/Colab Notebooks/validation_data',\n",
    "    labels='inferred',\n",
    "    label_mode='categorical',\n",
    "    batch_size=32,\n",
    "    image_size=(224, 224))"
   ],
   "metadata": {
    "colab": {
     "base_uri": "https://localhost:8080/"
    },
    "id": "jpBq7Hy2RW18",
    "outputId": "fce64d07-0c13-4f83-9cd1-d760f4e1c985"
   },
   "execution_count": 33,
   "outputs": [
    {
     "output_type": "stream",
     "name": "stdout",
     "text": [
      "Found 3581 files belonging to 44 classes.\n",
      "Found 895 files belonging to 44 classes.\n"
     ]
    }
   ]
  },
  {
   "cell_type": "code",
   "source": [
    "val_batches = tf.data.experimental.cardinality(validation_ds)\n",
    "print('Number of val batches: %d' % val_batches)\n",
    "test_dataset = validation_ds.take(val_batches // 5)\n",
    "validation_data = validation_ds.skip(val_batches // 5)"
   ],
   "metadata": {
    "colab": {
     "base_uri": "https://localhost:8080/"
    },
    "id": "Saexv1wvqlxQ",
    "outputId": "8f3e06af-3e1e-4c8a-bb1c-b20372094ca8"
   },
   "execution_count": 34,
   "outputs": [
    {
     "output_type": "stream",
     "name": "stdout",
     "text": [
      "Number of val batches: 28\n"
     ]
    }
   ]
  },
  {
   "cell_type": "code",
   "source": [
    "normalization_layer = tf.keras.layers.Rescaling(1./255)\n",
    "train_ds = train_ds.map(lambda x, y: (normalization_layer(x), y)) # Where x—images, y—labels.\n",
    "val_ds = validation_data.map(lambda x, y: (normalization_layer(x), y)) # Where x—images, y—labels.\n",
    "test_ds = test_dataset.map(lambda x, y: (normalization_layer(x), y)) # Where x—images, y—labels.\n"
   ],
   "metadata": {
    "id": "ogsmbQotqbZK"
   },
   "execution_count": 35,
   "outputs": []
  },
  {
   "cell_type": "code",
   "source": [
    "# val_batches = tf.data.experimental.cardinality(validation_ds)\n",
    "# print('Number of val batches: %d' % val_batches)\n",
    "# test_dataset = validation_ds.take(val_batches // 5)\n",
    "# validation_data = validation_ds.skip(val_batches // 5)"
   ],
   "metadata": {
    "colab": {
     "base_uri": "https://localhost:8080/"
    },
    "id": "-Lmwpqq-RYsK",
    "outputId": "14de4848-1aba-480e-98de-d1008bfe8175"
   },
   "execution_count": 31,
   "outputs": [
    {
     "output_type": "stream",
     "name": "stdout",
     "text": [
      "Number of val batches: 28\n"
     ]
    }
   ]
  },
  {
   "cell_type": "code",
   "source": [
    "tf.random.set_seed(CFG_SEED)\n",
    "\n",
    "# Compile the model\n",
    "model_vit_b16.compile(\n",
    "    loss=tf.keras.losses.CategoricalCrossentropy(),\n",
    "    # loss = tf.keras.losses.BinaryCrossentropy(),\n",
    "\n",
    "    optimizer=tf.keras.optimizers.Adam(learning_rate=0.001),\n",
    "    metrics=['accuracy']\n",
    ")\n",
    "\n",
    "\n",
    "history = model_vit_b16.fit(train_ds,validation_data=val_ds, epochs=NUM_EPOCHS)\n",
    "print(model_vit_b16.evaluate(test_ds))"
   ],
   "metadata": {
    "colab": {
     "base_uri": "https://localhost:8080/"
    },
    "id": "jwfFPII5e5MP",
    "outputId": "5504ea64-8d57-4b51-a681-fcc59c2e6c35"
   },
   "execution_count": 37,
   "outputs": [
    {
     "output_type": "stream",
     "name": "stdout",
     "text": [
      "Epoch 1/2\n",
      "112/112 [==============================] - 2820s 25s/step - loss: 2.5552 - accuracy: 0.3250 - val_loss: 1.9654 - val_accuracy: 0.4395\n",
      "Epoch 2/2\n",
      "112/112 [==============================] - 2754s 25s/step - loss: 1.6741 - accuracy: 0.5035 - val_loss: 1.5377 - val_accuracy: 0.5401\n",
      "5/5 [==============================] - 98s 20s/step - loss: 1.7411 - accuracy: 0.4500\n",
      "[1.7410808801651, 0.44999998807907104]\n"
     ]
    }
   ]
  },
  {
   "cell_type": "code",
   "source": [
    "# ## 2 EPOCHS TRAINING: \n",
    "#Epoch 1/2\n",
    "# 112/112 [==============================] - 2820s 25s/step - loss: 2.5552 - accuracy: 0.3250 - val_loss: 1.9654 - val_accuracy: 0.4395\n",
    "# Epoch 2/2\n",
    "# 112/112 [==============================] - 2754s 25s/step - loss: 1.6741 - accuracy: 0.5035 - val_loss: 1.5377 - val_accuracy: 0.5401\n",
    "# 1/5 [=====>........................] - ETA: 1:13 - loss: 1.6646 - accuracy: 0.4375\n",
    "\n",
    "\n",
    "#5/5 [==============================] - 98s 20s/step - loss: 1.7411 - accuracy: 0.4500\n",
    "# [1.7410808801651, 0.44999998807907104]"
   ],
   "metadata": {
    "id": "VzYmppaffElQ"
   },
   "execution_count": null,
   "outputs": []
  }
 ]
}
